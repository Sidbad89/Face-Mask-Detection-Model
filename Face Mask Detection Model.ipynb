{
 "cells": [
  {
   "cell_type": "code",
   "execution_count": 6,
   "id": "fdc7b8bd",
   "metadata": {},
   "outputs": [],
   "source": [
    "from tensorflow.keras.preprocessing.image import ImageDataGenerator\n",
    "from tensorflow.keras.applications import MobileNetV2\n",
    "from tensorflow.keras.layers import AveragePooling2D\n",
    "from tensorflow.keras.layers import Dropout\n",
    "from tensorflow.keras.layers import Flatten\n",
    "from tensorflow.keras.layers import Dense\n",
    "from tensorflow.keras.layers import Input\n",
    "from tensorflow.keras.models import Model\n",
    "from tensorflow.keras.optimizers import Adam\n",
    "from tensorflow.keras.applications.mobilenet_v2 import preprocess_input\n",
    "from tensorflow.keras.preprocessing.image import img_to_array\n",
    "from tensorflow.keras.preprocessing.image import load_img\n",
    "from tensorflow.keras.utils import to_categorical\n",
    "from sklearn.preprocessing import LabelBinarizer\n",
    "from sklearn.model_selection import train_test_split\n",
    "from sklearn.metrics import classification_report\n",
    "from imutils import paths\n",
    "import matplotlib.pyplot as plt\n",
    "import numpy as np\n",
    "import argparse\n",
    "import os"
   ]
  },
  {
   "cell_type": "code",
   "execution_count": 7,
   "id": "79bad333",
   "metadata": {},
   "outputs": [],
   "source": [
    "\n",
    "EPOCHS = 20\n",
    "BS = 32\n",
    "imagePaths = list(paths.list_images(\"C:\\\\Users\\\\Admin\\\\Desktop\\\\Siddharth\\\\Deep Learning\\\\Assesment\\\\\"))\n",
    "data = []\n",
    "labels = []\n",
    "# loop over the image paths\n",
    "for imagePath in imagePaths:\n",
    "    label = imagePath.split(os.path.sep)[-2]\n",
    "    image = load_img(imagePath, target_size=(224, 224))\n",
    "    image = img_to_array(image)\n",
    "    image = preprocess_input(image)\n",
    "\n",
    "data.append(image)\n",
    "labels.append(label)\n",
    "\n",
    "data = np.array(data, dtype=\"float32\")\n",
    "labels = np.array(labels)"
   ]
  },
  {
   "cell_type": "code",
   "execution_count": 8,
   "id": "e5583bcd",
   "metadata": {},
   "outputs": [],
   "source": [
    "\n",
    "lb = LabelBinarizer()\n",
    "labels = lb.fit_transform(labels)\n",
    "labels = to_categorical(labels)\n",
    "(trainX, testX, trainY, testY) = train_test_split(data, labels,\n",
    "test_size=0.20, stratify=labels, random_state=42)\n",
    "aug = ImageDataGenerator(\n",
    "rotation_range=20,\n",
    "zoom_range=0.15,\n",
    "width_shift_range=0.2,\n",
    "height_shift_range=0.2,\n",
    "shear_range=0.15,\n",
    "horizontal_flip=True,\n",
    "fill_mode=\"nearest\")"
   ]
  },
  {
   "cell_type": "code",
   "execution_count": 9,
   "id": "29727434",
   "metadata": {},
   "outputs": [
    {
     "name": "stdout",
     "output_type": "stream",
     "text": [
      "WARNING:tensorflow:`input_shape` is undefined or non-square, or `rows` is not in [96, 128, 160, 192, 224]. Weights for input shape (224, 224) will be loaded as the default.\n"
     ]
    }
   ],
   "source": [
    "baseModel = MobileNetV2(weights=\"imagenet\", include_top=False,\n",
    "input_tensor=Input(shape=(224, 224, 3)))\n",
    "headModel = baseModel.output\n",
    "headModel = AveragePooling2D(pool_size=(7, 7))(headModel)\n",
    "headModel = Flatten(name=\"flatten\")(headModel)\n",
    "headModel = Dense(128, activation=\"relu\")(headModel)\n",
    "headModel = Dropout(0.5)(headModel)\n",
    "headModel = Dense(2, activation=\"softmax\")(headModel)\n",
    "model = Model(inputs=baseModel.input, outputs=headModel)\n",
    "for layer in baseModel.layers:\n",
    "    layer.trainable = False"
   ]
  },
  {
   "cell_type": "code",
   "execution_count": 10,
   "id": "6306b512",
   "metadata": {},
   "outputs": [
    {
     "name": "stdout",
     "output_type": "stream",
     "text": [
      "[INFO] compiling model...\n",
      "[INFO] training head...\n"
     ]
    },
    {
     "name": "stderr",
     "output_type": "stream",
     "text": [
      "C:\\Users\\Admin\\anaconda3\\lib\\site-packages\\keras\\optimizers\\optimizer_v2\\adam.py:110: UserWarning: The `lr` argument is deprecated, use `learning_rate` instead.\n",
      "  super(Adam, self).__init__(name, **kwargs)\n"
     ]
    },
    {
     "name": "stdout",
     "output_type": "stream",
     "text": [
      "Epoch 1/20\n",
      "34/34 [==============================] - 37s 1s/step - loss: 0.4716 - accuracy: 0.8184 - val_loss: 0.1892 - val_accuracy: 0.9819\n",
      "Epoch 2/20\n",
      "34/34 [==============================] - 36s 1s/step - loss: 0.1787 - accuracy: 0.9728 - val_loss: 0.0867 - val_accuracy: 0.9891\n",
      "Epoch 3/20\n",
      "34/34 [==============================] - 38s 1s/step - loss: 0.1056 - accuracy: 0.9860 - val_loss: 0.0533 - val_accuracy: 0.9964\n",
      "Epoch 4/20\n",
      "34/34 [==============================] - 38s 1s/step - loss: 0.0723 - accuracy: 0.9897 - val_loss: 0.0389 - val_accuracy: 0.9964\n",
      "Epoch 5/20\n",
      "34/34 [==============================] - 42s 1s/step - loss: 0.0622 - accuracy: 0.9897 - val_loss: 0.0321 - val_accuracy: 0.9964\n",
      "Epoch 6/20\n",
      "34/34 [==============================] - 39s 1s/step - loss: 0.0480 - accuracy: 0.9906 - val_loss: 0.0245 - val_accuracy: 1.0000\n",
      "Epoch 7/20\n",
      "34/34 [==============================] - 39s 1s/step - loss: 0.0397 - accuracy: 0.9925 - val_loss: 0.0208 - val_accuracy: 1.0000\n",
      "Epoch 8/20\n",
      "34/34 [==============================] - 40s 1s/step - loss: 0.0333 - accuracy: 0.9944 - val_loss: 0.0184 - val_accuracy: 1.0000\n",
      "Epoch 9/20\n",
      "34/34 [==============================] - 39s 1s/step - loss: 0.0345 - accuracy: 0.9925 - val_loss: 0.0165 - val_accuracy: 1.0000\n",
      "Epoch 10/20\n",
      "34/34 [==============================] - 39s 1s/step - loss: 0.0234 - accuracy: 0.9972 - val_loss: 0.0149 - val_accuracy: 1.0000\n",
      "Epoch 11/20\n",
      "34/34 [==============================] - 39s 1s/step - loss: 0.0182 - accuracy: 0.9991 - val_loss: 0.0139 - val_accuracy: 1.0000\n",
      "Epoch 12/20\n",
      "34/34 [==============================] - 40s 1s/step - loss: 0.0252 - accuracy: 0.9925 - val_loss: 0.0129 - val_accuracy: 1.0000\n",
      "Epoch 13/20\n",
      "34/34 [==============================] - 41s 1s/step - loss: 0.0197 - accuracy: 0.9953 - val_loss: 0.0125 - val_accuracy: 1.0000\n",
      "Epoch 14/20\n",
      "34/34 [==============================] - 41s 1s/step - loss: 0.0182 - accuracy: 0.9963 - val_loss: 0.0113 - val_accuracy: 1.0000\n",
      "Epoch 15/20\n",
      "34/34 [==============================] - 41s 1s/step - loss: 0.0126 - accuracy: 0.9981 - val_loss: 0.0109 - val_accuracy: 1.0000\n",
      "Epoch 16/20\n",
      "34/34 [==============================] - 41s 1s/step - loss: 0.0309 - accuracy: 0.9925 - val_loss: 0.0148 - val_accuracy: 0.9964\n",
      "Epoch 17/20\n",
      "34/34 [==============================] - 41s 1s/step - loss: 0.0110 - accuracy: 1.0000 - val_loss: 0.0107 - val_accuracy: 1.0000\n",
      "Epoch 18/20\n",
      "34/34 [==============================] - 41s 1s/step - loss: 0.0097 - accuracy: 0.9991 - val_loss: 0.0098 - val_accuracy: 1.0000\n",
      "Epoch 19/20\n",
      "34/34 [==============================] - 39s 1s/step - loss: 0.0106 - accuracy: 0.9981 - val_loss: 0.0114 - val_accuracy: 0.9964\n",
      "Epoch 20/20\n",
      "34/34 [==============================] - 40s 1s/step - loss: 0.0116 - accuracy: 0.9972 - val_loss: 0.0103 - val_accuracy: 1.0000\n"
     ]
    }
   ],
   "source": [
    "print(\"[INFO] compiling model...\")\n",
    "opt = Adam(lr=INIT_LR, decay=INIT_LR / EPOCHS)\n",
    "model.compile(loss=\"binary_crossentropy\", optimizer=opt,\n",
    "metrics=[\"accuracy\"])\n",
    "print(\"[INFO] training head...\")\n",
    "H = model.fit(\n",
    "aug.flow(trainX, trainY, batch_size=BS),\n",
    "steps_per_epoch=len(trainX) // BS,\n",
    "validation_data=(testX, testY),\n",
    "validation_steps=len(testX) // BS,\n",
    "epochs=EPOCHS)"
   ]
  },
  {
   "cell_type": "code",
   "execution_count": 11,
   "id": "26583b24",
   "metadata": {},
   "outputs": [
    {
     "name": "stdout",
     "output_type": "stream",
     "text": [
      "[INFO] evaluating network...\n",
      "9/9 [==============================] - 7s 736ms/step\n",
      "              precision    recall  f1-score   support\n",
      "\n",
      "   with_mask       1.00      1.00      1.00       138\n",
      "without_mask       1.00      1.00      1.00       138\n",
      "\n",
      "    accuracy                           1.00       276\n",
      "   macro avg       1.00      1.00      1.00       276\n",
      "weighted avg       1.00      1.00      1.00       276\n",
      "\n",
      "[INFO] saving mask detector model...\n"
     ]
    }
   ],
   "source": [
    "\n",
    "print(\"[INFO] evaluating network...\")\n",
    "predIdxs = model.predict(testX, batch_size=BS)\n",
    "predIdxs = np.argmax(predIdxs, axis=1)\n",
    "print(classification_report(testY.argmax(axis=1), predIdxs,\n",
    "target_names=lb.classes_))\n",
    "print(\"[INFO] saving mask detector model...\")\n",
    "model.save(\"model\",'C:\\\\Users\\\\Admin\\\\Desktop\\\\Siddharth\\\\Deep Learning\\\\Assesment\\\\', save_format=\"h5\")"
   ]
  },
  {
   "cell_type": "code",
   "execution_count": 12,
   "id": "91bfb7e9",
   "metadata": {},
   "outputs": [
    {
     "data": {
      "image/png": "[encoded data removed]",
      "text/plain": [
       "<Figure size 432x288 with 1 Axes>"
      ]
     },
     "metadata": {},
     "output_type": "display_data"
    }
   ],
   "source": [
    "N = EPOCHS\n",
    "plt.style.use(\"ggplot\")\n",
    "plt.figure()\n",
    "plt.plot(np.arange(0, N), H.history[\"loss\"], label=\"train_loss\")\n",
    "plt.plot(np.arange(0, N), H.history[\"val_loss\"], label=\"val_loss\")\n",
    "plt.plot(np.arange(0, N), H.history[\"accuracy\"], label=\"train_acc\")\n",
    "plt.plot(np.arange(0, N), H.history[\"val_accuracy\"], label=\"val_acc\")\n",
    "plt.title(\"Training Loss and Accuracy\")\n",
    "plt.xlabel(\"Epoch #\")\n",
    "plt.ylabel(\"Loss/Accuracy\")\n",
    "plt.legend(loc=\"lower left\")\n",
    "plt.savefig(\"plot\")"
   ]
  },
  {
   "cell_type": "code",
   "execution_count": 13,
   "id": "fd35b681",
   "metadata": {},
   "outputs": [],
   "source": [
    "from tensorflow.keras.applications.mobilenet_v2 import preprocess_input\n",
    "from tensorflow.keras.preprocessing.image import img_to_array\n",
    "from tensorflow.keras.models import load_model\n",
    "import numpy as np\n",
    "import argparse\n",
    "import cv2\n",
    "import os"
   ]
  },
  {
   "cell_type": "code",
   "execution_count": 23,
   "id": "2230585d",
   "metadata": {},
   "outputs": [
    {
     "name": "stdout",
     "output_type": "stream",
     "text": [
      "[INFO] loading face mask detector model...\n"
     ]
    }
   ],
   "source": [
    "print(\"[INFO] loading face mask detector model...\")\n",
    "model = load_model(\"model\")"
   ]
  },
  {
   "cell_type": "code",
   "execution_count": 27,
   "id": "50a246b1",
   "metadata": {},
   "outputs": [],
   "source": [
    "image = cv2.imread(\"C:\\\\Users\\\\Admin\\\\Desktop\\\\Siddharth\\\\Deep Learning\\\\Assesment\\\\with_mask\\\\21-with-mask.jpg\")\n",
    "orig = image.copy()\n",
    "(h, w) = image.shape[:2]"
   ]
  },
  {
   "cell_type": "code",
   "execution_count": 28,
   "id": "51b725e8",
   "metadata": {},
   "outputs": [
    {
     "name": "stdout",
     "output_type": "stream",
     "text": [
      "1/1 [==============================] - 0s 45ms/step\n"
     ]
    }
   ],
   "source": [
    "\n",
    "face = image\n",
    "face = cv2.cvtColor(face, cv2.COLOR_BGR2RGB)\n",
    "face = cv2.resize(face, (224, 224))\n",
    "face = img_to_array(face)\n",
    "face = preprocess_input(face)\n",
    "face = np.expand_dims(face, axis=0)\n",
    "(mask, withoutMask) = model.predict(face)[0]"
   ]
  },
  {
   "cell_type": "code",
   "execution_count": 29,
   "id": "3225d0c3",
   "metadata": {},
   "outputs": [
    {
     "data": {
      "text/plain": [
       "-1"
      ]
     },
     "execution_count": 29,
     "metadata": {},
     "output_type": "execute_result"
    }
   ],
   "source": [
    "label = \"Mask\" if mask > withoutMask else \"No Mask\"\n",
    "color = (0, 255, 0) if label == \"Mask\" else (0, 0, 255)\n",
    "label = \"{}: {:.2f}%\".format(label, max(mask, withoutMask) * 100)\n",
    "cv2.putText(image, label, (50, 50),\n",
    "cv2.FONT_HERSHEY_SIMPLEX, 0.45, color, 2)\n",
    "cv2.imshow(\"Output\", image)\n",
    "cv2.waitKey(0)"
   ]
  },
  {
   "cell_type": "code",
   "execution_count": null,
   "id": "33f72a62",
   "metadata": {},
   "outputs": [],
   "source": []
  }
 ],
 "metadata": {
  "kernelspec": {
   "display_name": "Python 3",
   "language": "python",
   "name": "python3"
  },
  "language_info": {
   "codemirror_mode": {
    "name": "ipython",
    "version": 3
   },
   "file_extension": ".py",
   "mimetype": "text/x-python",
   "name": "python",
   "nbconvert_exporter": "python",
   "pygments_lexer": "ipython3",
   "version": "3.8.8"
  }
 },
 "nbformat": 4,
 "nbformat_minor": 5
}
